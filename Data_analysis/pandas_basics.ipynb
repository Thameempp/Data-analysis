{
 "cells": [
  {
   "cell_type": "code",
   "execution_count": 2,
   "id": "19fc91f8",
   "metadata": {},
   "outputs": [],
   "source": [
    "import pandas as pd"
   ]
  },
  {
   "cell_type": "code",
   "execution_count": 5,
   "id": "b4648755",
   "metadata": {},
   "outputs": [
    {
     "name": "stdout",
     "output_type": "stream",
     "text": [
      "0    1\n",
      "1    2\n",
      "2    3\n",
      "3    4\n",
      "4    5\n",
      "dtype: int64\n"
     ]
    }
   ],
   "source": [
    "data = [1,2,3,4,5]\n",
    "\n",
    "series = pd.Series(data)\n",
    "print(series)"
   ]
  },
  {
   "cell_type": "code",
   "execution_count": 8,
   "id": "be4d3edb",
   "metadata": {},
   "outputs": [
    {
     "name": "stdout",
     "output_type": "stream",
     "text": [
      "a    1\n",
      "b    2\n",
      "c    3\n",
      "dtype: int64\n",
      "<class 'pandas.core.series.Series'>\n"
     ]
    }
   ],
   "source": [
    "data1 = {'a':1, 'b':2, 'c':3}\n",
    "series_dict = pd.Series(data1)\n",
    "print(series_dict)\n",
    "print(type(series_dict))"
   ]
  },
  {
   "cell_type": "code",
   "execution_count": 12,
   "id": "91939057",
   "metadata": {},
   "outputs": [
    {
     "name": "stdout",
     "output_type": "stream",
     "text": [
      "a    10\n",
      "b    20\n",
      "c    30\n",
      "dtype: int64\n"
     ]
    }
   ],
   "source": [
    "data2 = [10,20,30]\n",
    "\n",
    "index1 = ['a','b','c']\n",
    "\n",
    "series_custom = pd.Series(data2, index=index1)\n",
    "\n",
    "print(series_custom)"
   ]
  },
  {
   "cell_type": "code",
   "execution_count": 97,
   "id": "7f54d6a7",
   "metadata": {},
   "outputs": [
    {
     "name": "stdout",
     "output_type": "stream",
     "text": [
      "    name  age       city\n",
      "0  krish   25  bangalore\n",
      "1  kevin   30   new york\n",
      "2   jack   45    florida\n"
     ]
    }
   ],
   "source": [
    "data = {\n",
    "    'name': ['krish','kevin','jack'],\n",
    "    'age': [25, 30, 45],\n",
    "    'city':['bangalore','new york','florida']\n",
    "}\n",
    "\n",
    "df = pd.DataFrame(data)\n",
    "print(df)\n",
    "\n"
   ]
  },
  {
   "cell_type": "code",
   "execution_count": 98,
   "id": "050e9898",
   "metadata": {},
   "outputs": [
    {
     "name": "stdout",
     "output_type": "stream",
     "text": [
      "      name  age  place\n",
      "0  Thameem   20  India\n",
      "1    kevin   25     Uk\n",
      "2    anvar   30  India\n",
      "3    peter   18  Spain\n"
     ]
    }
   ],
   "source": [
    "data = [\n",
    "    {\"name\":\"Thameem\",'age':20,'place':'India'},\n",
    "    {\"name\":\"kevin\",'age':25,'place':'Uk'},\n",
    "    {\"name\":\"anvar\",'age':30,'place':'India'},\n",
    "    {\"name\":\"peter\",'age':18,'place':'Spain'}\n",
    "]\n",
    "\n",
    "dt = pd.DataFrame(data)\n",
    "print(dt)"
   ]
  },
  {
   "cell_type": "markdown",
   "id": "61a00292",
   "metadata": {},
   "source": [
    "## Reading Data from CSV file"
   ]
  },
  {
   "cell_type": "code",
   "execution_count": 22,
   "id": "a437ff32",
   "metadata": {},
   "outputs": [
    {
     "name": "stdout",
     "output_type": "stream",
     "text": [
      "                              Region                Country        Item Type  \\\n",
      "0              Australia and Oceania                 Tuvalu        Baby Food   \n",
      "1  Central America and the Caribbean                Grenada           Cereal   \n",
      "2                             Europe                 Russia  Office Supplies   \n",
      "3                 Sub-Saharan Africa  Sao Tome and Principe           Fruits   \n",
      "4                 Sub-Saharan Africa                 Rwanda  Office Supplies   \n",
      "\n",
      "  Sales Channel Order Priority Order Date   Order ID  Ship Date  Units Sold  \\\n",
      "0       Offline              H  5/28/2010  669165933  6/27/2010        9925   \n",
      "1        Online              C  8/22/2012  963881480  9/15/2012        2804   \n",
      "2       Offline              L   5/2/2014  341417157   5/8/2014        1779   \n",
      "3        Online              C  6/20/2014  514321792   7/5/2014        8102   \n",
      "4       Offline              L   2/1/2013  115456712   2/6/2013        5062   \n",
      "\n",
      "   Unit Price  Unit Cost  Total Revenue  Total Cost  Total Profit  \n",
      "0      255.28     159.42     2533654.00  1582243.50     951410.50  \n",
      "1      205.70     117.11      576782.80   328376.44     248406.36  \n",
      "2      651.21     524.96     1158502.59   933903.84     224598.75  \n",
      "3        9.33       6.92       75591.66    56065.84      19525.82  \n",
      "4      651.21     524.96     3296425.02  2657347.52     639077.50  \n"
     ]
    }
   ],
   "source": [
    "df = pd.read_csv(\"sales_data.csv\")\n",
    "print(df.head())"
   ]
  },
  {
   "cell_type": "markdown",
   "id": "92830398",
   "metadata": {},
   "source": [
    "## Accessing Data in DataFrame"
   ]
  },
  {
   "cell_type": "code",
   "execution_count": 25,
   "id": "8fcfa543",
   "metadata": {},
   "outputs": [
    {
     "data": {
      "text/plain": [
       "0                 Australia and Oceania\n",
       "1     Central America and the Caribbean\n",
       "2                                Europe\n",
       "3                    Sub-Saharan Africa\n",
       "4                    Sub-Saharan Africa\n",
       "                    ...                \n",
       "95                   Sub-Saharan Africa\n",
       "96                                 Asia\n",
       "97                   Sub-Saharan Africa\n",
       "98                        North America\n",
       "99                   Sub-Saharan Africa\n",
       "Name: Region, Length: 100, dtype: object"
      ]
     },
     "execution_count": 25,
     "metadata": {},
     "output_type": "execute_result"
    }
   ],
   "source": [
    "df['Region']"
   ]
  },
  {
   "cell_type": "code",
   "execution_count": 28,
   "id": "cd3153ed",
   "metadata": {},
   "outputs": [
    {
     "data": {
      "text/plain": [
       "Region            Australia and Oceania\n",
       "Country                          Tuvalu\n",
       "Item Type                     Baby Food\n",
       "Sales Channel                   Offline\n",
       "Order Priority                        H\n",
       "Order Date                    5/28/2010\n",
       "Order ID                      669165933\n",
       "Ship Date                     6/27/2010\n",
       "Units Sold                         9925\n",
       "Unit Price                       255.28\n",
       "Unit Cost                        159.42\n",
       "Total Revenue                 2533654.0\n",
       "Total Cost                    1582243.5\n",
       "Total Profit                   951410.5\n",
       "Name: 0, dtype: object"
      ]
     },
     "execution_count": 28,
     "metadata": {},
     "output_type": "execute_result"
    }
   ],
   "source": [
    "df.loc[0]"
   ]
  },
  {
   "cell_type": "code",
   "execution_count": 33,
   "id": "5c37cb22",
   "metadata": {},
   "outputs": [
    {
     "data": {
      "text/plain": [
       "Region            Central America and the Caribbean\n",
       "Country                                     Grenada\n",
       "Item Type                                    Cereal\n",
       "Sales Channel                                Online\n",
       "Order Priority                                    C\n",
       "Order Date                                8/22/2012\n",
       "Order ID                                  963881480\n",
       "Ship Date                                 9/15/2012\n",
       "Units Sold                                     2804\n",
       "Unit Price                                    205.7\n",
       "Unit Cost                                    117.11\n",
       "Total Revenue                              576782.8\n",
       "Total Cost                                328376.44\n",
       "Total Profit                              248406.36\n",
       "Name: 1, dtype: object"
      ]
     },
     "execution_count": 33,
     "metadata": {},
     "output_type": "execute_result"
    }
   ],
   "source": [
    "df.loc[1]"
   ]
  },
  {
   "cell_type": "code",
   "execution_count": 40,
   "id": "d7678ffc",
   "metadata": {},
   "outputs": [
    {
     "data": {
      "text/plain": [
       "'Australia and Oceania'"
      ]
     },
     "execution_count": 40,
     "metadata": {},
     "output_type": "execute_result"
    }
   ],
   "source": [
    "df.iloc[0,0]"
   ]
  },
  {
   "cell_type": "code",
   "execution_count": 42,
   "id": "1b069b1f",
   "metadata": {},
   "outputs": [
    {
     "data": {
      "text/plain": [
       "'Cereal'"
      ]
     },
     "execution_count": 42,
     "metadata": {},
     "output_type": "execute_result"
    }
   ],
   "source": [
    "df.iloc[1,2]"
   ]
  },
  {
   "cell_type": "code",
   "execution_count": 47,
   "id": "64141784",
   "metadata": {},
   "outputs": [
    {
     "data": {
      "text/plain": [
       "'Central America and the Caribbean'"
      ]
     },
     "execution_count": 47,
     "metadata": {},
     "output_type": "execute_result"
    }
   ],
   "source": [
    "df.at[1, 'Region']"
   ]
  },
  {
   "cell_type": "code",
   "execution_count": 49,
   "id": "c1889f75",
   "metadata": {},
   "outputs": [
    {
     "data": {
      "text/plain": [
       "'Office Supplies'"
      ]
     },
     "execution_count": 49,
     "metadata": {},
     "output_type": "execute_result"
    }
   ],
   "source": [
    "df.at[2, 'Item Type']"
   ]
  },
  {
   "cell_type": "code",
   "execution_count": 51,
   "id": "5fbfc28b",
   "metadata": {},
   "outputs": [
    {
     "data": {
      "text/plain": [
       "'Office Supplies'"
      ]
     },
     "execution_count": 51,
     "metadata": {},
     "output_type": "execute_result"
    }
   ],
   "source": [
    "df.iat[2, 2]"
   ]
  },
  {
   "cell_type": "code",
   "execution_count": 52,
   "id": "8d83a726",
   "metadata": {},
   "outputs": [
    {
     "data": {
      "text/plain": [
       "'Offline'"
      ]
     },
     "execution_count": 52,
     "metadata": {},
     "output_type": "execute_result"
    }
   ],
   "source": [
    "df.iat[2, 3]"
   ]
  },
  {
   "cell_type": "markdown",
   "id": "8d0b6f22",
   "metadata": {},
   "source": [
    "## Data Manipulatio with DataFrame"
   ]
  },
  {
   "cell_type": "code",
   "execution_count": 56,
   "id": "4e13a392",
   "metadata": {},
   "outputs": [
    {
     "data": {
      "text/plain": [
       "0     255.28\n",
       "1     205.70\n",
       "2     651.21\n",
       "3       9.33\n",
       "4     651.21\n",
       "       ...  \n",
       "95    109.28\n",
       "96      9.33\n",
       "97    154.06\n",
       "98     81.73\n",
       "99    668.27\n",
       "Name: Unit Price, Length: 100, dtype: float64"
      ]
     },
     "execution_count": 56,
     "metadata": {},
     "output_type": "execute_result"
    }
   ],
   "source": [
    "df['Unit Price']"
   ]
  },
  {
   "cell_type": "code",
   "execution_count": 99,
   "id": "cc5e29c0",
   "metadata": {},
   "outputs": [
    {
     "data": {
      "text/html": [
       "<div>\n",
       "<style scoped>\n",
       "    .dataframe tbody tr th:only-of-type {\n",
       "        vertical-align: middle;\n",
       "    }\n",
       "\n",
       "    .dataframe tbody tr th {\n",
       "        vertical-align: top;\n",
       "    }\n",
       "\n",
       "    .dataframe thead th {\n",
       "        text-align: right;\n",
       "    }\n",
       "</style>\n",
       "<table border=\"1\" class=\"dataframe\">\n",
       "  <thead>\n",
       "    <tr style=\"text-align: right;\">\n",
       "      <th></th>\n",
       "      <th>name</th>\n",
       "      <th>age</th>\n",
       "      <th>place</th>\n",
       "    </tr>\n",
       "  </thead>\n",
       "  <tbody>\n",
       "    <tr>\n",
       "      <th>0</th>\n",
       "      <td>Thameem</td>\n",
       "      <td>20</td>\n",
       "      <td>India</td>\n",
       "    </tr>\n",
       "    <tr>\n",
       "      <th>1</th>\n",
       "      <td>kevin</td>\n",
       "      <td>25</td>\n",
       "      <td>Uk</td>\n",
       "    </tr>\n",
       "    <tr>\n",
       "      <th>2</th>\n",
       "      <td>anvar</td>\n",
       "      <td>30</td>\n",
       "      <td>India</td>\n",
       "    </tr>\n",
       "    <tr>\n",
       "      <th>3</th>\n",
       "      <td>peter</td>\n",
       "      <td>18</td>\n",
       "      <td>Spain</td>\n",
       "    </tr>\n",
       "  </tbody>\n",
       "</table>\n",
       "</div>"
      ],
      "text/plain": [
       "      name  age  place\n",
       "0  Thameem   20  India\n",
       "1    kevin   25     Uk\n",
       "2    anvar   30  India\n",
       "3    peter   18  Spain"
      ]
     },
     "execution_count": 99,
     "metadata": {},
     "output_type": "execute_result"
    }
   ],
   "source": [
    "dt"
   ]
  },
  {
   "cell_type": "code",
   "execution_count": 100,
   "id": "0e6a46d8",
   "metadata": {},
   "outputs": [
    {
     "name": "stdout",
     "output_type": "stream",
     "text": [
      "      name  age  place  projects\n",
      "0  Thameem   20  India        58\n",
      "1    kevin   25     Uk        77\n",
      "2    anvar   30  India        22\n",
      "3    peter   18  Spain        14\n"
     ]
    }
   ],
   "source": [
    "dt['projects'] = [58, 77, 22, 14]\n",
    "\n",
    "print(dt)"
   ]
  },
  {
   "cell_type": "code",
   "execution_count": 101,
   "id": "3d7bea9b",
   "metadata": {},
   "outputs": [
    {
     "name": "stdout",
     "output_type": "stream",
     "text": [
      "      name  age  place\n",
      "0  Thameem   20  India\n",
      "1    kevin   25     Uk\n",
      "2    anvar   30  India\n",
      "3    peter   18  Spain\n"
     ]
    }
   ],
   "source": [
    "dt.drop('projects', axis=1, inplace=True)\n",
    "print(dt)"
   ]
  },
  {
   "cell_type": "code",
   "execution_count": 102,
   "id": "bf7f381a",
   "metadata": {},
   "outputs": [
    {
     "data": {
      "text/html": [
       "<div>\n",
       "<style scoped>\n",
       "    .dataframe tbody tr th:only-of-type {\n",
       "        vertical-align: middle;\n",
       "    }\n",
       "\n",
       "    .dataframe tbody tr th {\n",
       "        vertical-align: top;\n",
       "    }\n",
       "\n",
       "    .dataframe thead th {\n",
       "        text-align: right;\n",
       "    }\n",
       "</style>\n",
       "<table border=\"1\" class=\"dataframe\">\n",
       "  <thead>\n",
       "    <tr style=\"text-align: right;\">\n",
       "      <th></th>\n",
       "      <th>name</th>\n",
       "      <th>age</th>\n",
       "      <th>place</th>\n",
       "    </tr>\n",
       "  </thead>\n",
       "  <tbody>\n",
       "    <tr>\n",
       "      <th>0</th>\n",
       "      <td>Thameem</td>\n",
       "      <td>21</td>\n",
       "      <td>India</td>\n",
       "    </tr>\n",
       "    <tr>\n",
       "      <th>1</th>\n",
       "      <td>kevin</td>\n",
       "      <td>26</td>\n",
       "      <td>Uk</td>\n",
       "    </tr>\n",
       "    <tr>\n",
       "      <th>2</th>\n",
       "      <td>anvar</td>\n",
       "      <td>31</td>\n",
       "      <td>India</td>\n",
       "    </tr>\n",
       "    <tr>\n",
       "      <th>3</th>\n",
       "      <td>peter</td>\n",
       "      <td>19</td>\n",
       "      <td>Spain</td>\n",
       "    </tr>\n",
       "  </tbody>\n",
       "</table>\n",
       "</div>"
      ],
      "text/plain": [
       "      name  age  place\n",
       "0  Thameem   21  India\n",
       "1    kevin   26     Uk\n",
       "2    anvar   31  India\n",
       "3    peter   19  Spain"
      ]
     },
     "execution_count": 102,
     "metadata": {},
     "output_type": "execute_result"
    }
   ],
   "source": [
    "dt['age'] = dt['age'] + 1\n",
    "dt"
   ]
  },
  {
   "cell_type": "code",
   "execution_count": 103,
   "id": "df1d40d5",
   "metadata": {},
   "outputs": [
    {
     "name": "stdout",
     "output_type": "stream",
     "text": [
      "      name  age  place\n",
      "0  Thameem   21  India\n",
      "1    kevin   26     Uk\n",
      "2    anvar   31  India\n"
     ]
    }
   ],
   "source": [
    "dt.drop(3, inplace=True)\n",
    "print(dt)"
   ]
  },
  {
   "cell_type": "markdown",
   "id": "80da0fc9",
   "metadata": {},
   "source": [
    "## DataFrame attributes and methods"
   ]
  },
  {
   "cell_type": "code",
   "execution_count": 106,
   "id": "531e363f",
   "metadata": {},
   "outputs": [
    {
     "name": "stdout",
     "output_type": "stream",
     "text": [
      "      name  age  place\n",
      "0  Thameem   21  India\n",
      "1    kevin   26     Uk\n",
      "2    anvar   31  India\n",
      "name     object\n",
      "age       int64\n",
      "place    object\n",
      "dtype: object\n",
      "        age\n",
      "count   3.0\n",
      "mean   26.0\n",
      "std     5.0\n",
      "min    21.0\n",
      "25%    23.5\n",
      "50%    26.0\n",
      "75%    28.5\n",
      "max    31.0\n"
     ]
    }
   ],
   "source": [
    "print(dt.head())\n",
    "print(dt.dtypes)\n",
    "print(dt.describe())"
   ]
  }
 ],
 "metadata": {
  "kernelspec": {
   "display_name": ".venv",
   "language": "python",
   "name": "python3"
  },
  "language_info": {
   "codemirror_mode": {
    "name": "ipython",
    "version": 3
   },
   "file_extension": ".py",
   "mimetype": "text/x-python",
   "name": "python",
   "nbconvert_exporter": "python",
   "pygments_lexer": "ipython3",
   "version": "3.13.7"
  }
 },
 "nbformat": 4,
 "nbformat_minor": 5
}
