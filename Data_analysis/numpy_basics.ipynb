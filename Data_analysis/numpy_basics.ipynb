{
 "cells": [
  {
   "cell_type": "code",
   "execution_count": null,
   "id": "4d12de65",
   "metadata": {},
   "outputs": [],
   "source": [
    "# introduction to numpy\n",
    "# 1D & 2D\n",
    "# Manipulation \n",
    "'''    \n",
    "    - reshape\n",
    "    - arithemetic operation with sacalar\n",
    "    - accessing row , column , elements \n",
    "    - reversing , slicing\n",
    "    - with functions like mean, max, min\n",
    "    - size and dimension\n",
    "\n",
    "'''"
   ]
  },
  {
   "cell_type": "code",
   "execution_count": 3,
   "id": "98e64584",
   "metadata": {},
   "outputs": [],
   "source": [
    "import numpy as np"
   ]
  },
  {
   "cell_type": "code",
   "execution_count": null,
   "id": "80e274d5",
   "metadata": {},
   "outputs": [],
   "source": []
  },
  {
   "cell_type": "code",
   "execution_count": null,
   "id": "9b4fbbe6",
   "metadata": {},
   "outputs": [],
   "source": [
    "# 1D array\n",
    "\n",
    "([1,2,3,4,5])\n",
    "\n",
    "# 2D array \n",
    "([[1,2,3],[4,5,6]]) \n",
    "\n",
    "([[1,2,3],[4,5,6],[7,8,9]])\n",
    "\n",
    "([[1,2,3],\n",
    "  [4,5,6],\n",
    "  [7,8,9]])"
   ]
  },
  {
   "cell_type": "code",
   "execution_count": 4,
   "id": "a6bbfe5d",
   "metadata": {},
   "outputs": [
    {
     "name": "stdout",
     "output_type": "stream",
     "text": [
      "[1 2 3 4 5]\n",
      "<class 'numpy.ndarray'>\n",
      "(5,)\n"
     ]
    }
   ],
   "source": [
    "#   1D array\n",
    "array1 = np.array([1,2,3,4,5])\n",
    "\n",
    "print(array1)\n",
    "print(type(array1))\n",
    "print(array1.shape)"
   ]
  },
  {
   "cell_type": "code",
   "execution_count": null,
   "id": "3b3e5d79",
   "metadata": {},
   "outputs": [
    {
     "name": "stdout",
     "output_type": "stream",
     "text": [
      "[[1]\n",
      " [2]\n",
      " [3]\n",
      " [4]\n",
      " [5]]\n"
     ]
    }
   ],
   "source": [
    "# reshaping array 1\n",
    "\n",
    "array2 = array1.reshape(5,1)\n",
    "\n",
    "print(array2)"
   ]
  },
  {
   "cell_type": "code",
   "execution_count": 5,
   "id": "f09433e1",
   "metadata": {},
   "outputs": [
    {
     "name": "stdout",
     "output_type": "stream",
     "text": [
      "[[ 1  2  3  4  5]\n",
      " [ 2  4  6  8 10]]\n",
      "(2, 5)\n",
      "[1 2 3 4 5]\n",
      "1\n",
      "1\n",
      "4\n",
      "\n",
      "array3 reshaped to \n",
      "(2, 5)\n",
      "\n",
      "[[ 1  2]\n",
      " [ 3  4]\n",
      " [ 5  2]\n",
      " [ 4  6]\n",
      " [ 8 10]]\n",
      "\n",
      "[1 2]\n",
      "[ 8 10]\n",
      "1\n",
      "8\n"
     ]
    }
   ],
   "source": [
    "\n",
    "\n",
    "# 2D array \n",
    "\n",
    "array3 = np.array([[1,2,3,4,5],[2,4,6,8,10]])\n",
    "\n",
    "print(array3)\n",
    "print(array3.shape)\n",
    "print(array3[0]) # first row in this array3\n",
    "print(array3[0][0])\n",
    "print(array3[0,0])  # another way of [0][0]\n",
    "print(array3[1][1])\n",
    "print('')\n",
    "print('array3 reshaped to ')\n",
    "print(array3.shape)\n",
    "print('')\n",
    "array3 = array3.reshape(5,2)\n",
    "print(array3)\n",
    "\n",
    "print('')\n",
    "print(array3[0]) # first row in reshaped array3\n",
    "print(array3[-1]) # print final row \n",
    "print(array3[0][0]) # first element in first row \n",
    "print(array3[-1][0]) "
   ]
  },
  {
   "cell_type": "code",
   "execution_count": null,
   "id": "cab73da3",
   "metadata": {},
   "outputs": [],
   "source": [
    "# 1D array manipulaiton"
   ]
  },
  {
   "cell_type": "code",
   "execution_count": 6,
   "id": "1c474aaf",
   "metadata": {},
   "outputs": [
    {
     "name": "stdout",
     "output_type": "stream",
     "text": [
      "(8,)\n"
     ]
    }
   ],
   "source": [
    "array4 = np.array([1,2,3,4,5,6,7,8])\n",
    "print(array4.shape)"
   ]
  },
  {
   "cell_type": "code",
   "execution_count": 7,
   "id": "d20ac542",
   "metadata": {},
   "outputs": [
    {
     "name": "stdout",
     "output_type": "stream",
     "text": [
      "[11 12 13 14 15 16 17 18]\n",
      "[ 2  4  6  8 10 12 14 16]\n",
      "[-2 -1  0  1  2  3  4  5]\n",
      "[0.5 1.  1.5 2.  2.5 3.  3.5 4. ]\n",
      "\n",
      "[2. 3. 4. 5. 6.]\n"
     ]
    }
   ],
   "source": [
    "print(array4 + 10) # 10 added for every element \n",
    "print(array4 * 2)\n",
    "print(array4 - 3)\n",
    "print(array4 / 2)\n",
    "\n",
    "print(\"\")\n",
    "array5 = np.array([4,9,16,25,36])\n",
    "print(np.sqrt(array5))"
   ]
  },
  {
   "cell_type": "code",
   "execution_count": 8,
   "id": "a55b08e2",
   "metadata": {},
   "outputs": [
    {
     "name": "stdout",
     "output_type": "stream",
     "text": [
      "90\n",
      "18.0\n",
      "36\n",
      "4\n"
     ]
    }
   ],
   "source": [
    "# useful functions\n",
    "\n",
    "print(array5.sum())\n",
    "print(array5.mean())\n",
    "print(array5.max())\n",
    "print(array5.min())"
   ]
  },
  {
   "cell_type": "code",
   "execution_count": null,
   "id": "76f195bf",
   "metadata": {},
   "outputs": [
    {
     "name": "stdout",
     "output_type": "stream",
     "text": [
      "[ 4  9 16 25 36]\n",
      "5\n",
      "1\n",
      "int64\n",
      "8\n",
      "\n",
      "[1 2 3 4 5 6 7 8]\n"
     ]
    }
   ],
   "source": [
    "# array attributes\n",
    "#  size , dimension, datatype, itemsize\n",
    "\n",
    "print(array5)\n",
    "print(array5.size)\n",
    "print(array5.ndim)\n",
    "print(array5.dtype) #.  int64 refers to a 64-bit signed integer data type.\n",
    "print(array5.itemsize)\n",
    "print(\"\")\n",
    "print(array4)"
   ]
  },
  {
   "cell_type": "code",
   "execution_count": null,
   "id": "2d64eab2",
   "metadata": {},
   "outputs": [],
   "source": []
  },
  {
   "cell_type": "code",
   "execution_count": 11,
   "id": "b052d925",
   "metadata": {},
   "outputs": [
    {
     "name": "stdout",
     "output_type": "stream",
     "text": [
      "9\n",
      "2\n"
     ]
    }
   ],
   "source": [
    "array6 = np.array([[1,2,3],[4,5,6],[7,8,9]])\n",
    "print(array6.size)\n",
    "print(array6.ndim)"
   ]
  },
  {
   "cell_type": "code",
   "execution_count": 19,
   "id": "e5c9afab",
   "metadata": {},
   "outputs": [
    {
     "name": "stdout",
     "output_type": "stream",
     "text": [
      "[11 22 33 44 55]\n",
      "[ -9 -18 -27 -36 -45]\n",
      "[ 10  40  90 160 250]\n",
      "[0.1 0.1 0.1 0.1 0.1]\n"
     ]
    }
   ],
   "source": [
    "# vectorized operaitons\n",
    "\n",
    "arr1 = np.array([1, 2, 3, 4, 5])\n",
    "arr2 = np.array([10, 20, 30, 40, 50])\n",
    "\n",
    "print(arr1 + arr2)\n",
    "print(arr1 - arr2)\n",
    "print(arr1 * arr2)\n",
    "print(arr1 / arr2)\n"
   ]
  },
  {
   "cell_type": "code",
   "execution_count": 26,
   "id": "e7694b0b",
   "metadata": {},
   "outputs": [
    {
     "name": "stdout",
     "output_type": "stream",
     "text": [
      "[1.         1.41421356 1.73205081 2.         2.23606798 2.44948974]\n",
      "[  2.71828183   7.3890561   20.08553692  54.59815003 148.4131591\n",
      " 403.42879349]\n",
      "[ 0.84147098  0.90929743  0.14112001 -0.7568025  -0.95892427 -0.2794155 ]\n",
      "[0.         0.69314718 1.09861229 1.38629436 1.60943791 1.79175947]\n"
     ]
    }
   ],
   "source": [
    "# functions \n",
    "\n",
    "arr = np.array([1,2,3,4,5,6])\n",
    "\n",
    "print(np.sqrt(arr))\n",
    "print(np.exp(arr))\n",
    "print(np.sin(arr))\n",
    "print(np.log(arr))"
   ]
  },
  {
   "cell_type": "code",
   "execution_count": 57,
   "id": "737c9d6c",
   "metadata": {},
   "outputs": [
    {
     "name": "stdout",
     "output_type": "stream",
     "text": [
      "[]\n",
      "[1]\n",
      "[2 3]\n",
      "[3 4 5 6]\n",
      "[3 4 5 6]\n",
      "\n",
      "[[6 7 8]]\n",
      "[[1 2]\n",
      " [5 6]]\n",
      "[[1 2 3]\n",
      " [5 6 7]]\n"
     ]
    }
   ],
   "source": [
    "# slicing of array\n",
    "\n",
    "arr9 = np.array([1,2,3,4,5,6,7,8,9])\n",
    "arr8 = np.array([[1,2,3,4],[5,6,7,8]])\n",
    "print(arr9[0:0])\n",
    "print(arr9[0:1])\n",
    "print(arr9[1:3])\n",
    "print(arr9[2:6])\n",
    "print(arr9[2:6])\n",
    "print(\"\")\n",
    "print(arr8[1:, 1:])\n",
    "print(arr8[0:, :2])\n",
    "print(arr8[0:, 0:3])"
   ]
  },
  {
   "cell_type": "code",
   "execution_count": 62,
   "id": "993d4548",
   "metadata": {},
   "outputs": [
    {
     "name": "stdout",
     "output_type": "stream",
     "text": [
      "[[100   2   3   4]\n",
      " [  5   6   7   8]]\n",
      "[[100  99   3   4]\n",
      " [  5   6   7   8]]\n"
     ]
    }
   ],
   "source": [
    "# modidying elements\n",
    "\n",
    "arr8[0,0] = 100\n",
    "print(arr8)\n",
    "\n",
    "arr8[0,1] = 99\n",
    "print(arr8)"
   ]
  },
  {
   "cell_type": "code",
   "execution_count": null,
   "id": "e72f7035",
   "metadata": {},
   "outputs": [
    {
     "name": "stdout",
     "output_type": "stream",
     "text": [
      "3.0\n",
      "1.4142135623730951\n",
      "[-1.41421356 -0.70710678  0.          0.70710678  1.41421356]\n"
     ]
    }
   ],
   "source": [
    "# statistical operations and normalization\n",
    "\n",
    "data = np.array([1,2,3,4,5])\n",
    "\n",
    "mean = np.mean(data)\n",
    "print(mean)\n",
    "std = np.std(data)\n",
    "print(std)\n",
    "\n",
    "normalized_data = (data - mean) /std\n",
    "print(normalized_data)"
   ]
  },
  {
   "cell_type": "code",
   "execution_count": 71,
   "id": "a8eda679",
   "metadata": {},
   "outputs": [
    {
     "name": "stdout",
     "output_type": "stream",
     "text": [
      "3.5\n",
      "3.5\n",
      "1.707825127659933\n",
      "2.9166666666666665\n"
     ]
    }
   ],
   "source": [
    "arr77 = np.array([1,2,3,4,5,6,7,8])\n",
    "\n",
    "print(np.mean(arr))\n",
    "print(np.median(arr))\n",
    "print(np.std(arr))\n",
    "print(np.var(arr))"
   ]
  },
  {
   "cell_type": "code",
   "execution_count": 73,
   "id": "c2727b92",
   "metadata": {},
   "outputs": [
    {
     "name": "stdout",
     "output_type": "stream",
     "text": [
      "[False False False False False  True  True  True  True  True]\n",
      "[ 6  7  8  9 10]\n",
      "[5 6 7 8]\n"
     ]
    }
   ],
   "source": [
    "#  logical operation \n",
    "\n",
    "data = np.array([1, 2, 3, 4, 5, 6, 7, 8, 9, 10])\n",
    "\n",
    "print(data > 5)\n",
    "print(data[data > 5])\n",
    "print(data[(data >= 5) & (data <= 8)])"
   ]
  },
  {
   "cell_type": "code",
   "execution_count": null,
   "id": "ce9b7c39",
   "metadata": {},
   "outputs": [],
   "source": []
  }
 ],
 "metadata": {
  "kernelspec": {
   "display_name": ".venv",
   "language": "python",
   "name": "python3"
  },
  "language_info": {
   "codemirror_mode": {
    "name": "ipython",
    "version": 3
   },
   "file_extension": ".py",
   "mimetype": "text/x-python",
   "name": "python",
   "nbconvert_exporter": "python",
   "pygments_lexer": "ipython3",
   "version": "3.13.7"
  }
 },
 "nbformat": 4,
 "nbformat_minor": 5
}
